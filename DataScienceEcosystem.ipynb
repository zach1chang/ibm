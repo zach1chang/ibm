{
 "cells": [
  {
   "cell_type": "markdown",
   "id": "1c29ed3d-c825-44fa-9644-d4425cb0713e",
   "metadata": {},
   "source": [
    "# Data Science Tools and Ecosystem"
   ]
  },
  {
   "cell_type": "markdown",
   "id": "6576ee09-0677-4554-ad9d-108134b8f986",
   "metadata": {},
   "source": [
    "In this notebook, Data Science Tools and Ecosystem are summarized."
   ]
  },
  {
   "cell_type": "markdown",
   "id": "064ea9bc-fb35-4af3-80c2-399e47e482f1",
   "metadata": {},
   "source": [
    "**Objectives**\n",
    "- List popular languages for data science\n",
    "- List commonly used libraries for data science\n",
    "- List data science tools\n",
    "- Use simple arithmetic with Python to multiply and add numbers\n",
    "- Use simple arithmetic with Python to convert 200 minutes to hours"
   ]
  },
  {
   "cell_type": "markdown",
   "id": "7282abae-57fa-4d2b-a563-308f02436b57",
   "metadata": {},
   "source": [
    "Some of the popular languages that Data Scientists use are:\n",
    "1. Python\n",
    "2. SQL\n",
    "3. R"
   ]
  },
  {
   "cell_type": "markdown",
   "id": "b35cd69b-7021-4ceb-a602-f5354157c0e9",
   "metadata": {},
   "source": [
    "Some of the commonly used libraries used by Data Scientists include:\n",
    "1. Pandas\n",
    "2. NumPy\n",
    "3. Scikit-learn"
   ]
  },
  {
   "cell_type": "markdown",
   "id": "163969c2-94e7-4106-8cce-97deebfd95f5",
   "metadata": {},
   "source": [
    "|Data Science Tools |\n",
    "|---|\n",
    "| Jupyter Notebook |\n",
    "| RStudio |\n",
    "| MySQL |\n"
   ]
  },
  {
   "cell_type": "markdown",
   "id": "e0735559-1f38-42ac-8797-f24fc1ceb521",
   "metadata": {
    "tags": []
   },
   "source": [
    "### Below are a few examples of evaluating arithmetic expressions in Python"
   ]
  },
  {
   "cell_type": "code",
   "execution_count": 5,
   "id": "3c5de77e-3a7d-4e55-a213-34608efce4e6",
   "metadata": {
    "tags": []
   },
   "outputs": [
    {
     "data": {
      "text/plain": [
       "17"
      ]
     },
     "execution_count": 5,
     "metadata": {},
     "output_type": "execute_result"
    }
   ],
   "source": [
    "# This a simple arithmetic expression to multiply then add integers\n",
    "(3*4)+5"
   ]
  },
  {
   "cell_type": "code",
   "execution_count": 6,
   "id": "9e03c23e-9245-4544-8fbf-d18af9887f6b",
   "metadata": {
    "tags": []
   },
   "outputs": [
    {
     "name": "stdout",
     "output_type": "stream",
     "text": [
      "3.3333333333333335\n"
     ]
    }
   ],
   "source": [
    "# This will convert 200 minutes to hours by diving by 60\n",
    "minutes = 200\n",
    "hours = minutes / 60\n",
    "print(hours)"
   ]
  },
  {
   "cell_type": "markdown",
   "id": "f3e5fe0e-055b-4121-a3f6-06db0eaaefbf",
   "metadata": {},
   "source": [
    "## Author\n",
    "Zachary Chang"
   ]
  }
 ],
 "metadata": {
  "kernelspec": {
   "display_name": "Python",
   "language": "python",
   "name": "conda-env-python-py"
  },
  "language_info": {
   "codemirror_mode": {
    "name": "ipython",
    "version": 3
   },
   "file_extension": ".py",
   "mimetype": "text/x-python",
   "name": "python",
   "nbconvert_exporter": "python",
   "pygments_lexer": "ipython3",
   "version": "3.7.12"
  }
 },
 "nbformat": 4,
 "nbformat_minor": 5
}
